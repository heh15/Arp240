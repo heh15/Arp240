{
 "cells": [
  {
   "cell_type": "code",
   "execution_count": 56,
   "metadata": {},
   "outputs": [],
   "source": [
    "import numpy as np\n",
    "import os,glob\n",
    "import scipy.ndimage as sni\n",
    "import sys\n",
    "import re\n",
    "import itertools\n",
    "from shutil import copytree\n",
    "from astropy.wcs import WCS\n",
    "from astropy.io import fits\n",
    "from astropy.utils.data import get_pkg_data_filename\n",
    "import astropy.units as u\n",
    "import matplotlib.pyplot as plt\n",
    "import numpy as np\n",
    "from astropy.visualization import make_lupton_rgb\n",
    "import aplpy\n",
    "from astropy.nddata import Cutout2D\n",
    "from astropy import units as u\n",
    "from astropy.coordinates import SkyCoord\n",
    "from astropy.visualization.wcsaxes import SphericalCircle\n",
    "from matplotlib.patches import Arrow\n",
    "from photutils import SkyCircularAnnulus\n",
    "from photutils import SkyCircularAperture\n",
    "from photutils import CircularAperture\n",
    "from photutils import CircularAnnulus\n",
    "from photutils import SkyEllipticalAperture\n",
    "from photutils import SkyEllipticalAnnulus\n",
    "from photutils import EllipticalAperture\n",
    "from photutils import EllipticalAnnulus\n",
    "from photutils import aperture_photometry\n",
    "import numpy.ma as ma\n",
    "import math\n",
    "import shutil\n",
    "import pandas as pd"
   ]
  },
  {
   "cell_type": "code",
   "execution_count": 57,
   "metadata": {},
   "outputs": [],
   "source": [
    "Dir='/home/heh15/workingspace/Arp240/NGC5258/ratio/'\n",
    "scriptDir=Dir+'script/measure_1213/'\n",
    "workDir=Dir+'mask/'\n",
    "imageDir=Dir+'image/'\n",
    "logDir=Dir+'log/'\n",
    "ratioDir=Dir+'1213/contsub/'\n",
    "maskDir=Dir+'mask/'"
   ]
  },
  {
   "cell_type": "code",
   "execution_count": 58,
   "metadata": {},
   "outputs": [],
   "source": [
    "# function\n",
    "def fits_import(fitsimage):\n",
    "    hdr = fits.open(fitsimage)[0].header\n",
    "    wcs = WCS(hdr).celestial\n",
    "    data=fits.open(fitsimage)[0].data\n",
    "    data=np.squeeze(data)\n",
    "    data_masked=np.ma.masked_invalid(data)\n",
    "\n",
    "    return wcs, data_masked\n",
    "\n",
    "def masked_convert(data_masked,region_masked):\n",
    "    data_mask=data_masked.mask\n",
    "    region_mask=np.ma.make_mask(region_masked==0)\n",
    "    region_mask=np.ma.mask_or(data_mask,region_mask)\n",
    "    data_region=np.ma.masked_where(region_mask,data_masked)\n",
    "    return data_region\n",
    "\n",
    "def flux_mask_get(data_region,rms,chans,chan_width):\n",
    "    flux=np.ma.sum(data_region)/beam_area_pix\n",
    "    chans_tmp=chans+np.zeros((np.shape(data_region)[0],np.shape(data_region)[1]))\n",
    "    error=np.sqrt(chans_tmp)*rms*chan_width/math.sqrt(beam_area_pix)\n",
    "    error_masked=np.ma.masked_where(data_region.mask,error)\n",
    "    uncertainty=math.sqrt(np.ma.sum(np.power(error_masked,2)))\n",
    "    return flux, uncertainty\n",
    "\n",
    "def ratio_cal(flux1,flux2,uncertainty1,uncertainty2):\n",
    "    ratio=flux1/flux2\n",
    "    uncertainty=math.sqrt((uncertainty1/flux1)**2+(uncertainty2/flux2)**2+2*0.05**2)*ratio\n",
    "    return ratio, uncertainty"
   ]
  },
  {
   "cell_type": "code",
   "execution_count": 59,
   "metadata": {},
   "outputs": [],
   "source": [
    "beam_area=3.789*2.989*1.1331\n",
    "beam_area_pix=beam_area/0.09\n",
    "regions=['south','rest','all']\n",
    "values=['12CO10 flux','12CO10 uncertainty','13CO10 flux', '13CO10 uncertainty', '12CO21 flux',\n",
    "        '12CO21 uncertainty','12/13','12/13 uncertainty','21/10','21/10 uncertainty','12CO32 flux','12CO32 uncertainty']\n",
    "CO13=['13CO10 flux', '13CO10 uncertainty']\n",
    "ratio_table=pd.DataFrame(index=regions,columns=values)\n",
    "\n",
    "values2=['12CO10 intensity','12CO10 uncertainty','13CO10 intensity','13CO10 uncertainty',\n",
    "         '12CO21 intensity','12CO21 uncertainty','12CO32 intensity','12CO32 uncertainty']\n",
    "intensities=pd.DataFrame(columns=values2,index=regions)\n",
    "peaks=pd.DataFrame(columns=values2,index=['south'])"
   ]
  },
  {
   "cell_type": "markdown",
   "metadata": {},
   "source": [
    "## 12CO 1-0"
   ]
  },
  {
   "cell_type": "code",
   "execution_count": 60,
   "metadata": {},
   "outputs": [],
   "source": [
    "fitsimage=imageDir+'12CO10/NGC5258_12CO10_combine_contsub_uvrange_smooth_co32_pbcor_mom0.fits'\n",
    "wcs=fits_import(fitsimage)[0]\n",
    "data_masked=fits_import(fitsimage)[1]"
   ]
  },
  {
   "cell_type": "code",
   "execution_count": 61,
   "metadata": {},
   "outputs": [],
   "source": [
    "# south\n",
    "maskimage=maskDir+'south_SFR_co32_mask.fits'\n",
    "region_masked=fits_import(maskimage)[1]\n",
    "region= masked_convert(data_masked,region_masked)\n",
    "rms=0.0023\n",
    "chan_width=10\n",
    "chans=50\n",
    "flux=flux_mask_get(region,rms,chans,chan_width)[0]\n",
    "uncertainty=flux_mask_get(region,rms,chans, chan_width)[1]\n",
    "ratio_table['12CO10 flux']['south']=flux\n",
    "ratio_table['12CO10 uncertainty']['south']=uncertainty\n",
    "peaks['12CO10 intensity']['south']=np.nanmax(region)\n",
    "peaks['12CO10 uncertainty']['south']= peaks['12CO10 intensity']['south']*uncertainty/flux\n",
    "\n",
    "# rest\n",
    "maskimage=maskDir+'rest_SFR_co32_mask.fits'\n",
    "region_masked=fits_import(maskimage)[1]\n",
    "region= masked_convert(data_masked,region_masked)\n",
    "rms=0.0023\n",
    "chan_width=10\n",
    "chans=50\n",
    "flux=flux_mask_get(region,rms,chans,chan_width)[0]\n",
    "uncertainty=flux_mask_get(region,rms,chans, chan_width)[1]\n",
    "ratio_table['12CO10 flux']['rest']=flux\n",
    "ratio_table['12CO10 uncertainty']['rest']=uncertainty\n",
    "\n",
    "# whole\n",
    "maskimage=maskDir+'whole_mask.fits'\n",
    "region_masked=fits_import(maskimage)[1]\n",
    "region= masked_convert(data_masked,region_masked)\n",
    "rms=0.0023\n",
    "chan_width=10\n",
    "chans=50\n",
    "flux=flux_mask_get(region,rms,chans,chan_width)[0]\n",
    "uncertainty=flux_mask_get(region,rms,chans, chan_width)[1]\n",
    "ratio_table['12CO10 flux']['all']=flux\n",
    "ratio_table['12CO10 uncertainty']['all']=uncertainty"
   ]
  },
  {
   "cell_type": "code",
   "execution_count": 62,
   "metadata": {},
   "outputs": [],
   "source": [
    "# south\n",
    "maskimage=maskDir+'south_SFR_co32_mask.fits'\n",
    "region_masked=fits_import(maskimage)[1]\n",
    "region= masked_convert(data_masked,region_masked)\n",
    "intensity=np.ma.mean(region)\n",
    "intensities['12CO10 intensity']['south']=intensity\n",
    "intensities['12CO10 uncertainty']['south']=intensity*ratio_table['12CO10 uncertainty']['south']\\\n",
    "                                  /ratio_table['12CO10 flux']['south']\n",
    "\n",
    "# rest\n",
    "maskimage=maskDir+'rest_SFR_co32_mask.fits'\n",
    "region_masked=fits_import(maskimage)[1]\n",
    "region= masked_convert(data_masked,region_masked)\n",
    "intensity=np.ma.mean(region)\n",
    "intensities['12CO10 intensity']['rest']=intensity\n",
    "intensities['12CO10 uncertainty']['rest']=intensity*ratio_table['12CO10 uncertainty']['rest']\\\n",
    "                                  /ratio_table['12CO10 flux']['rest']\n",
    "\n",
    "# whole\n",
    "maskimage=maskDir+'whole_mask.fits'\n",
    "region_masked=fits_import(maskimage)[1]\n",
    "region= masked_convert(data_masked,region_masked)\n",
    "intensity=np.ma.mean(region)\n",
    "intensities['12CO10 intensity']['all']=intensity\n",
    "intensities['12CO10 uncertainty']['all']=intensity*ratio_table['12CO10 uncertainty']['rest']\\\n",
    "                                  /ratio_table['12CO10 flux']['rest']"
   ]
  },
  {
   "cell_type": "code",
   "execution_count": 63,
   "metadata": {},
   "outputs": [
    {
     "name": "stdout",
     "output_type": "stream",
     "text": [
      "      12CO10 intensity 12CO10 uncertainty 13CO10 intensity 13CO10 uncertainty  \\\n",
      "south          9.52107          0.0658402              NaN                NaN   \n",
      "rest           4.63121          0.0295947              NaN                NaN   \n",
      "all            5.48699          0.0350634              NaN                NaN   \n",
      "\n",
      "      12CO21 intensity 12CO21 uncertainty 12CO32 intensity 12CO32 uncertainty  \n",
      "south              NaN                NaN              NaN                NaN  \n",
      "rest               NaN                NaN              NaN                NaN  \n",
      "all                NaN                NaN              NaN                NaN  \n"
     ]
    }
   ],
   "source": [
    "print(intensities)"
   ]
  },
  {
   "cell_type": "markdown",
   "metadata": {},
   "source": [
    "## 13CO 1-0 "
   ]
  },
  {
   "cell_type": "code",
   "execution_count": 64,
   "metadata": {},
   "outputs": [],
   "source": [
    "fitsimage=imageDir+'13CO10/NGC5258_13CO10_12m_uvrange_smooth_co32_pbcor_mom0.fits'\n",
    "wcs=fits_import(fitsimage)[0]\n",
    "data_masked=fits_import(fitsimage)[1]"
   ]
  },
  {
   "cell_type": "markdown",
   "metadata": {},
   "source": [
    "Import the count channel map for 13CO1-0"
   ]
  },
  {
   "cell_type": "code",
   "execution_count": 65,
   "metadata": {},
   "outputs": [],
   "source": [
    "fitsimage=imageDir+'13CO10/NGC5258_13CO10_12m_uvrange_smooth_co32_nchan.fits'\n",
    "wcs=fits_import(fitsimage)[0]\n",
    "chans_masked=fits_import(fitsimage)[1]\n",
    "chans=chans_masked.data"
   ]
  },
  {
   "cell_type": "code",
   "execution_count": 66,
   "metadata": {},
   "outputs": [],
   "source": [
    "# south\n",
    "maskimage=maskDir+'south_SFR_co32_mask.fits'\n",
    "region_masked=fits_import(maskimage)[1]\n",
    "region= masked_convert(data_masked,region_masked)\n",
    "rms=0.00073\n",
    "chan_width=20\n",
    "flux=flux_mask_get(region,rms,chans,chan_width)[0]\n",
    "uncertainty=flux_mask_get(region,rms,chans, chan_width)[1]\n",
    "ratio_table['13CO10 flux']['south']=flux\n",
    "ratio_table['13CO10 uncertainty']['south']=uncertainty\n",
    "peaks['13CO10 intensity']['south']=np.nanmax(region)\n",
    "peaks['13CO10 uncertainty']['south']= peaks['13CO10 intensity']['south']*uncertainty/flux\n",
    "\n",
    "# rest\n",
    "maskimage=maskDir+'rest_SFR_co32_mask.fits'\n",
    "region_masked=fits_import(maskimage)[1]\n",
    "region= masked_convert(data_masked,region_masked)\n",
    "rms=0.00073\n",
    "chan_width=20\n",
    "chans=25\n",
    "flux=flux_mask_get(region,rms,chans,chan_width)[0]\n",
    "uncertainty=flux_mask_get(region,rms,chans, chan_width)[1]\n",
    "ratio_table['13CO10 flux']['rest']=flux\n",
    "ratio_table['13CO10 uncertainty']['rest']=uncertainty\n",
    "\n",
    "# whole\n",
    "maskimage=maskDir+'whole_mask.fits'\n",
    "region_masked=fits_import(maskimage)[1]\n",
    "region= masked_convert(data_masked,region_masked)\n",
    "rms=0.00073\n",
    "chan_width=20\n",
    "chans=25\n",
    "flux=flux_mask_get(region,rms,chans,chan_width)[0]\n",
    "uncertainty=flux_mask_get(region,rms,chans, chan_width)[1]\n",
    "ratio_table['13CO10 flux']['all']=flux\n",
    "ratio_table['13CO10 uncertainty']['all']=uncertainty"
   ]
  },
  {
   "cell_type": "markdown",
   "metadata": {},
   "source": [
    "Calculate the intensity of the 13CO 1-0"
   ]
  },
  {
   "cell_type": "code",
   "execution_count": 67,
   "metadata": {},
   "outputs": [],
   "source": [
    "# south\n",
    "maskimage=maskDir+'south_SFR_co32_mask.fits'\n",
    "region_masked=fits_import(maskimage)[1]\n",
    "region= masked_convert(data_masked,region_masked)\n",
    "rms=0.00073\n",
    "chan_width=20\n",
    "intensity=np.ma.mean(region)\n",
    "intensities['13CO10 intensity']['south']=intensity\n",
    "intensities['13CO10 uncertainty']['south']=intensity*ratio_table['13CO10 uncertainty']['south']\\\n",
    "                                  /ratio_table['13CO10 flux']['south']\n",
    "\n",
    "# rest\n",
    "maskimage=maskDir+'rest_SFR_co32_mask.fits'\n",
    "region_masked=fits_import(maskimage)[1]\n",
    "region= masked_convert(data_masked,region_masked)\n",
    "rms=0.00073\n",
    "chan_width=20\n",
    "chans=25\n",
    "intensity=np.ma.mean(region)\n",
    "intensities['13CO10 intensity']['rest']=intensity\n",
    "intensities['13CO10 uncertainty']['rest']=intensity*ratio_table['13CO10 uncertainty']['rest']\\\n",
    "                                  /ratio_table['13CO10 flux']['rest']\n",
    "\n",
    "# whole\n",
    "maskimage=maskDir+'whole_mask.fits'\n",
    "region_masked=fits_import(maskimage)[1]\n",
    "region= masked_convert(data_masked,region_masked)\n",
    "rms=0.00073\n",
    "chan_width=20\n",
    "chans=25\n",
    "intensity=np.ma.mean(region)\n",
    "intensities['13CO10 intensity']['all']=intensity\n",
    "intensities['13CO10 uncertainty']['all']=intensity*ratio_table['13CO10 uncertainty']['rest']\\\n",
    "                                  /ratio_table['13CO10 flux']['rest']"
   ]
  },
  {
   "cell_type": "code",
   "execution_count": 68,
   "metadata": {},
   "outputs": [
    {
     "name": "stdout",
     "output_type": "stream",
     "text": [
      "      12CO10 intensity 12CO10 uncertainty 13CO10 intensity 13CO10 uncertainty  \\\n",
      "south          9.52107          0.0658402         0.541093          0.0140979   \n",
      "rest           4.63121          0.0295947         0.286571          0.0140049   \n",
      "all            5.48699          0.0350634         0.332065          0.0162283   \n",
      "\n",
      "      12CO21 intensity 12CO21 uncertainty 12CO32 intensity 12CO32 uncertainty  \n",
      "south              NaN                NaN              NaN                NaN  \n",
      "rest               NaN                NaN              NaN                NaN  \n",
      "all                NaN                NaN              NaN                NaN  \n"
     ]
    }
   ],
   "source": [
    "print(intensities)"
   ]
  },
  {
   "cell_type": "markdown",
   "metadata": {},
   "source": [
    "## 12CO21"
   ]
  },
  {
   "cell_type": "code",
   "execution_count": 69,
   "metadata": {},
   "outputs": [],
   "source": [
    "fitsimage=imageDir+'12CO21/NGC5258_12CO21_combine_uvtaper_smooth_co32_pbcor_mom0.fits'\n",
    "wcs=fits_import(fitsimage)[0]\n",
    "data_masked=fits_import(fitsimage)[1]"
   ]
  },
  {
   "cell_type": "code",
   "execution_count": 70,
   "metadata": {},
   "outputs": [],
   "source": [
    "# south\n",
    "maskimage=maskDir+'south_SFR_co32_mask.fits'\n",
    "region_masked=fits_import(maskimage)[1]\n",
    "region= masked_convert(data_masked,region_masked)\n",
    "rms=0.0098\n",
    "chan_width=10\n",
    "chans=50\n",
    "flux=flux_mask_get(region,rms,chans,chan_width)[0]\n",
    "uncertainty=flux_mask_get(region,rms,chans, chan_width)[1]\n",
    "ratio_table['12CO21 flux']['south']=flux\n",
    "ratio_table['12CO21 uncertainty']['south']=uncertainty\n",
    "peaks['12CO21 intensity']['south']=np.nanmax(region)\n",
    "peaks['12CO21 uncertainty']['south']= peaks['12CO21 intensity']['south']*uncertainty/flux\n",
    "\n",
    "# rest\n",
    "maskimage=maskDir+'rest_SFR_co32_mask.fits'\n",
    "region_masked=fits_import(maskimage)[1]\n",
    "region= masked_convert(data_masked,region_masked)\n",
    "rms=0.0098\n",
    "chan_width=10\n",
    "chans=50\n",
    "flux=flux_mask_get(region,rms,chans,chan_width)[0]\n",
    "uncertainty=flux_mask_get(region,rms,chans, chan_width)[1]\n",
    "ratio_table['12CO21 flux']['rest']=flux\n",
    "ratio_table['12CO21 uncertainty']['rest']=uncertainty\n",
    "\n",
    "# whole\n",
    "maskimage=maskDir+'whole_mask.fits'\n",
    "region_masked=fits_import(maskimage)[1]\n",
    "region= masked_convert(data_masked,region_masked)\n",
    "rms=0.0098\n",
    "chan_width=10\n",
    "chans=50\n",
    "flux=flux_mask_get(region,rms,chans,chan_width)[0]\n",
    "uncertainty=flux_mask_get(region,rms,chans, chan_width)[1]\n",
    "ratio_table['12CO21 flux']['all']=flux\n",
    "ratio_table['12CO21 uncertainty']['all']=uncertainty"
   ]
  },
  {
   "cell_type": "code",
   "execution_count": 71,
   "metadata": {},
   "outputs": [],
   "source": [
    "# south\n",
    "maskimage=maskDir+'south_SFR_co32_mask.fits'\n",
    "region_masked=fits_import(maskimage)[1]\n",
    "region= masked_convert(data_masked,region_masked)\n",
    "intensity=np.ma.mean(region)\n",
    "intensities['12CO21 intensity']['south']=intensity\n",
    "intensities['12CO21 uncertainty']['south']=intensity*ratio_table['12CO21 uncertainty']['south']\\\n",
    "                                  /ratio_table['12CO21 flux']['south']\n",
    "\n",
    "# rest\n",
    "maskimage=maskDir+'rest_SFR_co32_mask.fits'\n",
    "region_masked=fits_import(maskimage)[1]\n",
    "region= masked_convert(data_masked,region_masked)\n",
    "intensity=np.ma.mean(region)\n",
    "intensities['12CO21 intensity']['rest']=intensity\n",
    "intensities['12CO21 uncertainty']['rest']=intensity*ratio_table['12CO21 uncertainty']['rest']\\\n",
    "                                  /ratio_table['12CO21 flux']['rest']\n",
    "\n",
    "# whole\n",
    "maskimage=maskDir+'whole_mask.fits'\n",
    "region_masked=fits_import(maskimage)[1]\n",
    "region= masked_convert(data_masked,region_masked)\n",
    "intensity=np.ma.mean(region)\n",
    "intensities['12CO21 intensity']['all']=intensity\n",
    "intensities['12CO21 uncertainty']['all']=intensity*ratio_table['12CO21 uncertainty']['rest']\\\n",
    "                                  /ratio_table['12CO21 flux']['rest']"
   ]
  },
  {
   "cell_type": "code",
   "execution_count": 72,
   "metadata": {},
   "outputs": [],
   "source": [
    "ratio_table['12/13']=ratio_table['12CO10 flux']/ratio_table['13CO10 flux']\n",
    "fraction=((ratio_table['12CO10 uncertainty']/ratio_table['12CO10 flux'])**2+\n",
    "                                  (ratio_table['13CO10 uncertainty']/ratio_table['13CO10 flux'])**2)**0.5\n",
    "ratio_table['12/13 uncertainty']=ratio_table['12/13']*fraction"
   ]
  },
  {
   "cell_type": "code",
   "execution_count": 73,
   "metadata": {},
   "outputs": [
    {
     "name": "stdout",
     "output_type": "stream",
     "text": [
      "      12CO10 flux 12CO10 uncertainty 13CO10 flux 13CO10 uncertainty  \\\n",
      "south     58.0937            0.40173     3.14594          0.0819655   \n",
      "rest       139.86           0.893741     7.78601           0.380509   \n",
      "all       197.605           0.975989     10.9294           0.418803   \n",
      "\n",
      "      12CO21 flux 12CO21 uncertainty    12/13 12/13 uncertainty     21/10  \\\n",
      "south     210.209            1.71172  18.4662          0.497784  0.904612   \n",
      "rest      453.564            3.80811  17.9629          0.885335  0.810749   \n",
      "all       662.408            4.15856  18.0801          0.698539  0.838044   \n",
      "\n",
      "      21/10 uncertainty 12CO32 flux 12CO32 uncertainty  \n",
      "south        0.00966402         NaN                NaN  \n",
      "rest         0.00855438         NaN                NaN  \n",
      "all          0.00669425         NaN                NaN  \n"
     ]
    }
   ],
   "source": [
    "ratio_table['21/10']=ratio_table['12CO21 flux']/ratio_table['12CO10 flux']*115.27**2/230.54**2\n",
    "fraction=((ratio_table['12CO21 uncertainty']/ratio_table['12CO21 flux'])**2+\n",
    "                                  (ratio_table['12CO10 uncertainty']/ratio_table['12CO10 flux'])**2)**0.5\n",
    "ratio_table['21/10 uncertainty']=ratio_table['21/10']*fraction\n",
    "print(ratio_table)"
   ]
  },
  {
   "cell_type": "code",
   "execution_count": 74,
   "metadata": {},
   "outputs": [
    {
     "name": "stdout",
     "output_type": "stream",
     "text": [
      "      12CO10 intensity 12CO10 uncertainty 13CO10 intensity 13CO10 uncertainty  \\\n",
      "south          9.52107          0.0658402         0.541093          0.0140979   \n",
      "rest           4.63121          0.0295947         0.286571          0.0140049   \n",
      "all            5.48699          0.0350634         0.332065          0.0162283   \n",
      "\n",
      "      12CO21 intensity 12CO21 uncertainty 12CO32 intensity 12CO32 uncertainty  \n",
      "south          34.4515           0.280537              NaN                NaN  \n",
      "rest            15.019           0.126099              NaN                NaN  \n",
      "all            18.3934            0.15443              NaN                NaN  \n"
     ]
    }
   ],
   "source": [
    "print(intensities)"
   ]
  },
  {
   "cell_type": "markdown",
   "metadata": {},
   "source": [
    "## 12CO32"
   ]
  },
  {
   "cell_type": "markdown",
   "metadata": {},
   "source": [
    "The wcs of regridded image can't be imported somehow. So I just import the data and use the wcs from previous imported image."
   ]
  },
  {
   "cell_type": "code",
   "execution_count": 75,
   "metadata": {},
   "outputs": [],
   "source": [
    "def fits_import(fitsimage):\n",
    "    \n",
    "    data=fits.open(fitsimage)[0].data\n",
    "    data=np.squeeze(data)\n",
    "    data_masked=np.ma.masked_invalid(data)\n",
    "    \n",
    "    return data_masked"
   ]
  },
  {
   "cell_type": "code",
   "execution_count": 76,
   "metadata": {},
   "outputs": [],
   "source": [
    "fitsimage=imageDir+'12CO32/NGC5258co32_all_regrid.map40r.mom0.fits'\n",
    "data_masked=fits_import(fitsimage)"
   ]
  },
  {
   "cell_type": "code",
   "execution_count": 77,
   "metadata": {},
   "outputs": [
    {
     "data": {
      "text/plain": [
       "161.2186"
      ]
     },
     "execution_count": 77,
     "metadata": {},
     "output_type": "execute_result"
    }
   ],
   "source": [
    "np.max(data_masked)"
   ]
  },
  {
   "cell_type": "code",
   "execution_count": 78,
   "metadata": {},
   "outputs": [],
   "source": [
    "# south\n",
    "maskimage=maskDir+'south_SFR_co32_mask.fits'\n",
    "region_masked=fits_import(maskimage)\n",
    "region= masked_convert(data_masked,region_masked)\n",
    "rms=0.165\n",
    "chan_width=40\n",
    "chans=7\n",
    "flux=flux_mask_get(region,rms,chans,chan_width)[0]\n",
    "uncertainty=flux_mask_get(region,rms,chans, chan_width)[1]\n",
    "ratio_table['12CO32 flux']['south']=flux\n",
    "ratio_table['12CO32 uncertainty']['south']=uncertainty\n",
    "\n",
    "# rest\n",
    "maskimage=maskDir+'rest_SFR_co32_mask.fits'\n",
    "region_masked=fits_import(maskimage)\n",
    "region= masked_convert(data_masked,region_masked)\n",
    "rms=0.165\n",
    "chan_width=40\n",
    "chans=7\n",
    "flux=flux_mask_get(region,rms,chans,chan_width)[0]\n",
    "uncertainty=flux_mask_get(region,rms,chans, chan_width)[1]\n",
    "ratio_table['12CO32 flux']['rest']=flux\n",
    "ratio_table['12CO32 uncertainty']['rest']=uncertainty\n",
    "\n",
    "# whole\n",
    "maskimage=maskDir+'whole_mask.fits'\n",
    "region_masked=fits_import(maskimage)\n",
    "region= masked_convert(data_masked,region_masked)\n",
    "rms=0.165\n",
    "chan_width=40\n",
    "chans=7\n",
    "flux=flux_mask_get(region,rms,chans,chan_width)[0]\n",
    "uncertainty=flux_mask_get(region,rms,chans, chan_width)[1]\n",
    "ratio_table['12CO32 flux']['all']=flux\n",
    "ratio_table['12CO32 uncertainty']['all']=uncertainty"
   ]
  },
  {
   "cell_type": "code",
   "execution_count": 79,
   "metadata": {},
   "outputs": [
    {
     "name": "stdout",
     "output_type": "stream",
     "text": [
      "      12CO10 flux 12CO10 uncertainty 13CO10 flux 13CO10 uncertainty  \\\n",
      "south     58.0937            0.40173     3.14594          0.0819655   \n",
      "rest       139.86           0.893741     7.78601           0.380509   \n",
      "all       197.605           0.975989     10.9294           0.418803   \n",
      "\n",
      "      12CO21 flux 12CO21 uncertainty    12/13 12/13 uncertainty     21/10  \\\n",
      "south     210.209            1.71172  18.4662          0.497784  0.904612   \n",
      "rest      453.564            3.80811  17.9629          0.885335  0.810749   \n",
      "all       662.408            4.15856  18.0801          0.698539  0.838044   \n",
      "\n",
      "      21/10 uncertainty 12CO32 flux 12CO32 uncertainty  \n",
      "south        0.00966402     416.078            43.1335  \n",
      "rest         0.00855438     15.8455            95.9604  \n",
      "all          0.00669425     431.618            104.791  \n"
     ]
    }
   ],
   "source": [
    "print(ratio_table)"
   ]
  },
  {
   "cell_type": "code",
   "execution_count": 80,
   "metadata": {},
   "outputs": [],
   "source": [
    "# south\n",
    "maskimage=maskDir+'south_SFR_co32_mask.fits'\n",
    "region_masked=fits_import(maskimage)\n",
    "region= masked_convert(data_masked,region_masked)\n",
    "intensity=np.ma.mean(region)\n",
    "intensities['12CO32 intensity']['south']=intensity\n",
    "intensities['12CO32 uncertainty']['south']=intensity*ratio_table['12CO32 uncertainty']['south']\\\n",
    "                                  /ratio_table['12CO32 flux']['south']\n",
    "\n",
    "# rest\n",
    "maskimage=maskDir+'rest_SFR_co32_mask.fits'\n",
    "region_masked=fits_import(maskimage)\n",
    "region= masked_convert(data_masked,region_masked)\n",
    "intensity=np.ma.mean(region)\n",
    "intensities['12CO32 intensity']['rest']=intensity\n",
    "intensities['12CO32 uncertainty']['rest']=intensity*ratio_table['12CO32 uncertainty']['rest']\\\n",
    "                                  /ratio_table['12CO32 flux']['rest']\n",
    "\n",
    "# whole\n",
    "maskimage=maskDir+'whole_mask.fits'\n",
    "region_masked=fits_import(maskimage)\n",
    "region= masked_convert(data_masked,region_masked)\n",
    "intensity=np.ma.mean(region)\n",
    "intensities['12CO32 intensity']['all']=intensity\n",
    "intensities['12CO32 uncertainty']['all']=intensity*ratio_table['12CO32 uncertainty']['rest']\\\n",
    "                                  /ratio_table['12CO32 flux']['rest']"
   ]
  },
  {
   "cell_type": "code",
   "execution_count": 81,
   "metadata": {},
   "outputs": [
    {
     "name": "stdout",
     "output_type": "stream",
     "text": [
      "      12CO10 intensity 12CO10 uncertainty 13CO10 intensity 13CO10 uncertainty  \\\n",
      "south          9.52107          0.0658402         0.541093          0.0140979   \n",
      "rest           4.63121          0.0295947         0.286571          0.0140049   \n",
      "all            5.48699          0.0350634         0.332065          0.0162283   \n",
      "\n",
      "      12CO21 intensity 12CO21 uncertainty 12CO32 intensity 12CO32 uncertainty  \n",
      "south          34.4515           0.280537          68.1917            7.06922  \n",
      "rest            15.019           0.126099         0.524698            3.17756  \n",
      "all            18.3934            0.15443          11.9849            72.5805  \n"
     ]
    }
   ],
   "source": [
    "print(intensities)"
   ]
  }
 ],
 "metadata": {
  "kernelspec": {
   "display_name": "Python 3",
   "language": "python",
   "name": "python3"
  },
  "language_info": {
   "codemirror_mode": {
    "name": "ipython",
    "version": 3
   },
   "file_extension": ".py",
   "mimetype": "text/x-python",
   "name": "python",
   "nbconvert_exporter": "python",
   "pygments_lexer": "ipython3",
   "version": "3.6.8"
  }
 },
 "nbformat": 4,
 "nbformat_minor": 2
}
