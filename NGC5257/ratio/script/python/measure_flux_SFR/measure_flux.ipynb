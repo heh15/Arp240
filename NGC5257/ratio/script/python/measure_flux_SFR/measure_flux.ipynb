{
 "cells": [
  {
   "cell_type": "code",
   "execution_count": 31,
   "metadata": {},
   "outputs": [],
   "source": [
    "import numpy as np\n",
    "import os,glob\n",
    "import scipy.ndimage as sni\n",
    "import sys\n",
    "import re\n",
    "import itertools\n",
    "from shutil import copytree\n",
    "from astropy.wcs import WCS\n",
    "from astropy.io import fits\n",
    "from astropy.utils.data import get_pkg_data_filename\n",
    "import astropy.units as u\n",
    "import matplotlib.pyplot as plt\n",
    "import numpy as np\n",
    "from astropy.visualization import make_lupton_rgb\n",
    "import aplpy\n",
    "from astropy.nddata import Cutout2D\n",
    "from astropy import units as u\n",
    "from astropy.coordinates import SkyCoord\n",
    "from astropy.visualization.wcsaxes import SphericalCircle\n",
    "from matplotlib.patches import Arrow\n",
    "from photutils import SkyCircularAnnulus\n",
    "from photutils import SkyCircularAperture\n",
    "from photutils import CircularAperture\n",
    "from photutils import CircularAnnulus\n",
    "from photutils import SkyEllipticalAperture\n",
    "from photutils import SkyEllipticalAnnulus\n",
    "from photutils import EllipticalAperture\n",
    "from photutils import EllipticalAnnulus\n",
    "from photutils import aperture_photometry\n",
    "import numpy.ma as ma\n",
    "import math\n",
    "import shutil\n",
    "import pandas as pd"
   ]
  },
  {
   "cell_type": "code",
   "execution_count": 32,
   "metadata": {},
   "outputs": [],
   "source": [
    "Dir='/home/heh15/workingspace/Arp240/NGC5257/ratio/'\n",
    "scriptDir=Dir+'script/measure_1213/'\n",
    "workDir=Dir+'mask/'\n",
    "imageDir=Dir+'image/'\n",
    "logDir=Dir+'log/'\n",
    "ratioDir=Dir+'1213/contsub/'\n",
    "maskDir=Dir+'mask/'"
   ]
  },
  {
   "cell_type": "code",
   "execution_count": 33,
   "metadata": {},
   "outputs": [],
   "source": [
    "# function\n",
    "def fits_import(fitsimage):\n",
    "    hdr = fits.open(fitsimage)[0].header\n",
    "    wcs = WCS(hdr).celestial\n",
    "    data=fits.open(fitsimage)[0].data[0][0]\n",
    "    position=SkyCoord(dec=50.4167*u.arcmin,ra=204.9706*u.degree,frame='icrs')\n",
    "    size=u.Quantity((54,42),u.arcsec)\n",
    "    cut=Cutout2D(data=data,position=position,size=size,wcs=wcs)\n",
    "    data_cut=cut.data\n",
    "    wcs_cut=cut.wcs\n",
    "    data_masked=np.ma.masked_invalid(data_cut)\n",
    "    return wcs_cut, data_masked\n",
    "\n",
    "def masked_convert(data_masked,region_masked):\n",
    "    data_mask=data_masked.mask\n",
    "    region_mask=np.ma.make_mask(region_masked==0)\n",
    "    region_mask=np.ma.mask_or(data_mask,region_mask)\n",
    "    data_region=np.ma.masked_where(region_mask,data_masked)\n",
    "    return data_region\n",
    "\n",
    "def flux_mask_get(data_region,rms,chans,chan_width):\n",
    "    flux=np.ma.sum(data_region)/beam_area_pix\n",
    "    chans_tmp=chans+np.zeros((np.shape(data_region)[0],np.shape(data_region)[1]))\n",
    "    error=np.sqrt(chans_tmp)*rms*chan_width/math.sqrt(beam_area_pix)\n",
    "    error_masked=np.ma.masked_where(data_region.mask,error)\n",
    "    uncertainty=math.sqrt(np.ma.sum(np.power(error_masked,2)))\n",
    "    return flux, uncertainty\n",
    "\n",
    "def ratio_cal(flux1,flux2,uncertainty1,uncertainty2):\n",
    "    ratio=flux1/flux2\n",
    "    uncertainty=math.sqrt((uncertainty1/flux1)**2+(uncertainty2/flux2)**2+2*0.05**2)*ratio\n",
    "    return ratio, uncertainty"
   ]
  },
  {
   "cell_type": "code",
   "execution_count": 34,
   "metadata": {},
   "outputs": [],
   "source": [
    "beam_area=2.186*1.896*1.1331\n",
    "beam_area_pix=beam_area/0.09\n",
    "regions=['center','hinge','south','rest','all']\n",
    "values=['12CO10 flux','12CO10 uncertainty','13CO10 flux', '13CO10 uncertainty', '12CO21 flux',\n",
    "        '12CO21 uncertainty','12/13','12/13 uncertainty','21/10','21/10 uncertainty']\n",
    "CO13=['13CO10 flux', '13CO10 uncertainty']\n",
    "ratio_table=pd.DataFrame(index=regions,columns=values)\n",
    "\n",
    "values2=['12CO10 intensity','12CO10 uncertainty','13CO10 intensity','13CO10 uncertainty',\n",
    "         '12CO21 intensity','12CO21 uncertainty']\n",
    "intensities=pd.DataFrame(columns=values2,index=regions)"
   ]
  },
  {
   "cell_type": "markdown",
   "metadata": {},
   "source": [
    "## 12CO 1-0"
   ]
  },
  {
   "cell_type": "code",
   "execution_count": 35,
   "metadata": {},
   "outputs": [],
   "source": [
    "fitsimage=imageDir+'12CO10/NGC5257_12CO10_combine_contsub_smooth_13COcut_pbcor_mom0.fits'\n",
    "wcs=fits_import(fitsimage)[0]\n",
    "data_masked=fits_import(fitsimage)[1]"
   ]
  },
  {
   "cell_type": "code",
   "execution_count": 36,
   "metadata": {},
   "outputs": [],
   "source": [
    "# center\n",
    "maskimage=maskDir+'center_SFR_mask.fits'\n",
    "region_masked=fits_import(maskimage)[1]\n",
    "region= masked_convert(data_masked,region_masked)\n",
    "rms=0.0016\n",
    "chan_width=10\n",
    "chans=50\n",
    "flux=flux_mask_get(region,rms,chans,chan_width)[0]\n",
    "uncertainty=flux_mask_get(region,rms,chans, chan_width)[1]\n",
    "ratio_table['12CO10 flux']['center']=flux\n",
    "ratio_table['12CO10 uncertainty']['center']=uncertainty\n",
    "\n",
    "# hinge\n",
    "maskimage=maskDir+'hinge_SFR_mask.fits'\n",
    "region_masked=fits_import(maskimage)[1]\n",
    "region= masked_convert(data_masked,region_masked)\n",
    "rms=0.0016\n",
    "chan_width=10\n",
    "chans=50\n",
    "flux=flux_mask_get(region,rms,chans,chan_width)[0]\n",
    "uncertainty=flux_mask_get(region,rms,chans, chan_width)[1]\n",
    "ratio_table['12CO10 flux']['hinge']=flux\n",
    "ratio_table['12CO10 uncertainty']['hinge']=uncertainty\n",
    "\n",
    "\n",
    "# south\n",
    "maskimage=maskDir+'south_SFR_mask.fits'\n",
    "region_masked=fits_import(maskimage)[1]\n",
    "region= masked_convert(data_masked,region_masked)\n",
    "rms=0.0016\n",
    "chan_width=10\n",
    "chans=50\n",
    "flux=flux_mask_get(region,rms,chans,chan_width)[0]\n",
    "uncertainty=flux_mask_get(region,rms,chans, chan_width)[1]\n",
    "ratio_table['12CO10 flux']['south']=flux\n",
    "ratio_table['12CO10 uncertainty']['south']=uncertainty\n",
    "\n",
    "# rest\n",
    "maskimage=maskDir+'rest_mask.fits'\n",
    "region_masked=fits_import(maskimage)[1]\n",
    "region= masked_convert(data_masked,region_masked)\n",
    "rms=0.0016\n",
    "chan_width=10\n",
    "chans=50\n",
    "flux=flux_mask_get(region,rms,chans,chan_width)[0]\n",
    "uncertainty=flux_mask_get(region,rms,chans, chan_width)[1]\n",
    "ratio_table['12CO10 flux']['rest']=flux\n",
    "ratio_table['12CO10 uncertainty']['rest']=uncertainty"
   ]
  },
  {
   "cell_type": "code",
   "execution_count": 37,
   "metadata": {},
   "outputs": [],
   "source": [
    "# center\n",
    "maskimage=maskDir+'center_SFR_mask.fits'\n",
    "region_masked=fits_import(maskimage)[1]\n",
    "region= masked_convert(data_masked,region_masked)\n",
    "intensity=np.ma.mean(region)\n",
    "intensities['12CO10 intensity']['center']=intensity\n",
    "intensities['12CO10 uncertainty']['center']=intensity*ratio_table['12CO10 uncertainty']['center']\\\n",
    "                                  /ratio_table['12CO10 flux']['center']\n",
    "\n",
    "# hinge\n",
    "maskimage=maskDir+'hinge_SFR_mask.fits'\n",
    "region_masked=fits_import(maskimage)[1]\n",
    "region= masked_convert(data_masked,region_masked)\n",
    "intensity=np.ma.mean(region)\n",
    "intensities['12CO10 intensity']['hinge']=intensity\n",
    "intensities['12CO10 uncertainty']['hinge']=intensity*ratio_table['12CO10 uncertainty']['hinge']\\\n",
    "                                  /ratio_table['12CO10 flux']['hinge']\n",
    "\n",
    "# south\n",
    "maskimage=maskDir+'south_SFR_mask.fits'\n",
    "region_masked=fits_import(maskimage)[1]\n",
    "region= masked_convert(data_masked,region_masked)\n",
    "intensity=np.ma.mean(region)\n",
    "intensities['12CO10 intensity']['south']=intensity\n",
    "intensities['12CO10 uncertainty']['south']=intensity*ratio_table['12CO10 uncertainty']['south']\\\n",
    "                                  /ratio_table['12CO10 flux']['south']\n",
    "\n",
    "# rest\n",
    "maskimage=maskDir+'rest_mask.fits'\n",
    "region_masked=fits_import(maskimage)[1]\n",
    "region= masked_convert(data_masked,region_masked)\n",
    "intensity=np.ma.mean(region)\n",
    "intensities['12CO10 intensity']['rest']=intensity\n",
    "intensities['12CO10 uncertainty']['rest']=intensity*ratio_table['12CO10 uncertainty']['rest']\\\n",
    "                                  /ratio_table['12CO10 flux']['rest']"
   ]
  },
  {
   "cell_type": "code",
   "execution_count": 38,
   "metadata": {},
   "outputs": [
    {
     "name": "stdout",
     "output_type": "stream",
     "text": [
      "       12CO10 intensity 12CO10 uncertainty 13CO10 intensity  \\\n",
      "center          5.20973          0.0549751              NaN   \n",
      "hinge           1.57375          0.0345666              NaN   \n",
      "south          0.583567          0.0667293              NaN   \n",
      "rest            1.00937          0.0136897              NaN   \n",
      "all                 NaN                NaN              NaN   \n",
      "\n",
      "       13CO10 uncertainty 12CO21 intensity 12CO21 uncertainty  \n",
      "center                NaN              NaN                NaN  \n",
      "hinge                 NaN              NaN                NaN  \n",
      "south                 NaN              NaN                NaN  \n",
      "rest                  NaN              NaN                NaN  \n",
      "all                   NaN              NaN                NaN  \n"
     ]
    }
   ],
   "source": [
    "print(intensities)"
   ]
  },
  {
   "cell_type": "markdown",
   "metadata": {},
   "source": [
    "## 13CO 1-0 "
   ]
  },
  {
   "cell_type": "code",
   "execution_count": 39,
   "metadata": {},
   "outputs": [],
   "source": [
    "fitsimage=imageDir+'13CO10/NGC5257_13CO10_12m_contsub_smooth_pbcor_mom0.fits'\n",
    "wcs=fits_import(fitsimage)[0]\n",
    "data_masked=fits_import(fitsimage)[1]"
   ]
  },
  {
   "cell_type": "markdown",
   "metadata": {},
   "source": [
    "Import the count channel map for 13CO1-0"
   ]
  },
  {
   "cell_type": "code",
   "execution_count": 40,
   "metadata": {},
   "outputs": [],
   "source": [
    "fitsimage=imageDir+'13CO10/NGC5257_13CO10_12m_smooth_nchan.fits'\n",
    "wcs=fits_import(fitsimage)[0]\n",
    "chans_masked=fits_import(fitsimage)[1]\n",
    "chans=chans_masked.data"
   ]
  },
  {
   "cell_type": "code",
   "execution_count": 41,
   "metadata": {},
   "outputs": [],
   "source": [
    "# center\n",
    "maskimage=maskDir+'center_SFR_mask.fits'\n",
    "region_masked=fits_import(maskimage)[1]\n",
    "region= masked_convert(data_masked,region_masked)\n",
    "rms=0.00062\n",
    "chan_width=20\n",
    "flux=flux_mask_get(region,rms,chans,chan_width)[0]\n",
    "uncertainty=flux_mask_get(region,rms,chans, chan_width)[1]\n",
    "ratio_table['13CO10 flux']['center']=flux\n",
    "ratio_table['13CO10 uncertainty']['center']=uncertainty\n",
    "\n",
    "# hinge\n",
    "maskimage=maskDir+'hinge_SFR_mask.fits'\n",
    "region_masked=fits_import(maskimage)[1]\n",
    "region= masked_convert(data_masked,region_masked)\n",
    "rms=0.00062\n",
    "chan_width=20\n",
    "flux=flux_mask_get(region,rms,chans,chan_width)[0]\n",
    "uncertainty=flux_mask_get(region,rms,chans, chan_width)[1]\n",
    "ratio_table['13CO10 flux']['hinge']=flux\n",
    "ratio_table['13CO10 uncertainty']['hinge']=uncertainty\n",
    "\n",
    "\n",
    "# south\n",
    "maskimage=maskDir+'south_SFR_mask.fits'\n",
    "region_masked=fits_import(maskimage)[1]\n",
    "region= masked_convert(data_masked,region_masked)\n",
    "rms=0.00062\n",
    "chan_width=20\n",
    "flux=flux_mask_get(region,rms,chans,chan_width)[0]\n",
    "uncertainty=flux_mask_get(region,rms,chans, chan_width)[1]\n",
    "ratio_table['13CO10 flux']['south']=flux\n",
    "ratio_table['13CO10 uncertainty']['south']=uncertainty\n",
    "\n",
    "# rest\n",
    "maskimage=maskDir+'rest_mask.fits'\n",
    "region_masked=fits_import(maskimage)[1]\n",
    "region= masked_convert(data_masked,region_masked)\n",
    "rms=0.00062\n",
    "chan_width=20\n",
    "chans=25\n",
    "flux=flux_mask_get(region,rms,chans,chan_width)[0]\n",
    "uncertainty=flux_mask_get(region,rms,chans, chan_width)[1]\n",
    "ratio_table['13CO10 flux']['rest']=flux\n",
    "ratio_table['13CO10 uncertainty']['rest']=uncertainty"
   ]
  },
  {
   "cell_type": "markdown",
   "metadata": {},
   "source": [
    "Calculate the intensity of the 13CO 1-0"
   ]
  },
  {
   "cell_type": "code",
   "execution_count": 42,
   "metadata": {},
   "outputs": [],
   "source": [
    "# center\n",
    "maskimage=maskDir+'center_SFR_mask.fits'\n",
    "region_masked=fits_import(maskimage)[1]\n",
    "region= masked_convert(data_masked,region_masked)\n",
    "rms=0.00062\n",
    "chan_width=20\n",
    "intensity=np.ma.mean(region)\n",
    "intensities['13CO10 intensity']['center']=intensity\n",
    "intensities['13CO10 uncertainty']['center']=intensity*ratio_table['13CO10 uncertainty']['center']\\\n",
    "                                  /ratio_table['13CO10 flux']['center']\n",
    "\n",
    "# hinge\n",
    "maskimage=maskDir+'hinge_SFR_mask.fits'\n",
    "region_masked=fits_import(maskimage)[1]\n",
    "region= masked_convert(data_masked,region_masked)\n",
    "rms=0.00062\n",
    "chan_width=20\n",
    "intensity=np.ma.mean(region)\n",
    "intensities['13CO10 intensity']['hinge']=intensity\n",
    "intensities['13CO10 uncertainty']['hinge']=intensity*ratio_table['13CO10 uncertainty']['center']\\\n",
    "                                  /ratio_table['13CO10 flux']['hinge']\n",
    "\n",
    "# south\n",
    "maskimage=maskDir+'south_SFR_mask.fits'\n",
    "region_masked=fits_import(maskimage)[1]\n",
    "region= masked_convert(data_masked,region_masked)\n",
    "rms=0.00062\n",
    "chan_width=20\n",
    "intensity=np.ma.mean(region)\n",
    "intensities['13CO10 intensity']['south']=intensity\n",
    "intensities['13CO10 uncertainty']['south']=intensity*ratio_table['13CO10 uncertainty']['south']\\\n",
    "                                  /ratio_table['13CO10 flux']['south']\n",
    "\n",
    "# rest\n",
    "maskimage=maskDir+'rest_mask.fits'\n",
    "region_masked=fits_import(maskimage)[1]\n",
    "region= masked_convert(data_masked,region_masked)\n",
    "rms=0.00062\n",
    "chan_width=20\n",
    "chans=25\n",
    "intensity=np.ma.mean(region)\n",
    "intensities['13CO10 intensity']['rest']=intensity\n",
    "intensities['13CO10 uncertainty']['rest']=intensity*ratio_table['13CO10 uncertainty']['rest']\\\n",
    "                                  /ratio_table['13CO10 flux']['rest']"
   ]
  },
  {
   "cell_type": "code",
   "execution_count": 43,
   "metadata": {},
   "outputs": [
    {
     "name": "stdout",
     "output_type": "stream",
     "text": [
      "       12CO10 intensity 12CO10 uncertainty 13CO10 intensity  \\\n",
      "center          5.20973          0.0549751         0.443934   \n",
      "hinge           1.57375          0.0345666          0.20123   \n",
      "south          0.583567          0.0667293         0.179378   \n",
      "rest            1.00937          0.0136897         0.190574   \n",
      "all                 NaN                NaN              NaN   \n",
      "\n",
      "       13CO10 uncertainty 12CO21 intensity 12CO21 uncertainty  \n",
      "center          0.0181139              NaN                NaN  \n",
      "hinge            0.024655              NaN                NaN  \n",
      "south           0.0435248              NaN                NaN  \n",
      "rest            0.0137238              NaN                NaN  \n",
      "all                   NaN              NaN                NaN  \n"
     ]
    }
   ],
   "source": [
    "print(intensities)"
   ]
  },
  {
   "cell_type": "markdown",
   "metadata": {},
   "source": [
    "## 12CO21 "
   ]
  },
  {
   "cell_type": "code",
   "execution_count": 44,
   "metadata": {},
   "outputs": [],
   "source": [
    "fitsimage=imageDir+'12CO21/NGC5257_12CO21_combine_contsub_uvtaper_smooth_regrid_13COcut_pbcor_mom0.fits'\n",
    "wcs=fits_import(fitsimage)[0]\n",
    "data_masked=fits_import(fitsimage)[1]"
   ]
  },
  {
   "cell_type": "code",
   "execution_count": 45,
   "metadata": {},
   "outputs": [],
   "source": [
    "# center\n",
    "maskimage=maskDir+'center_SFR_mask.fits'\n",
    "region_masked=fits_import(maskimage)[1]\n",
    "region= masked_convert(data_masked,region_masked)\n",
    "rms=0.0031\n",
    "chan_width=10\n",
    "chans=50\n",
    "flux=flux_mask_get(region,rms,chans,chan_width)[0]\n",
    "uncertainty=flux_mask_get(region,rms,chans, chan_width)[1]\n",
    "ratio_table['12CO21 flux']['center']=flux\n",
    "ratio_table['12CO21 uncertainty']['center']=uncertainty\n",
    "\n",
    "# hinge\n",
    "maskimage=maskDir+'hinge_SFR_mask.fits'\n",
    "region_masked=fits_import(maskimage)[1]\n",
    "region= masked_convert(data_masked,region_masked)\n",
    "rms=0.0031\n",
    "chan_width=10\n",
    "chans=50\n",
    "flux=flux_mask_get(region,rms,chans,chan_width)[0]\n",
    "uncertainty=flux_mask_get(region,rms,chans, chan_width)[1]\n",
    "ratio_table['12CO21 flux']['hinge']=flux\n",
    "ratio_table['12CO21 uncertainty']['hinge']=uncertainty\n",
    "\n",
    "\n",
    "# south\n",
    "maskimage=maskDir+'south_SFR_mask.fits'\n",
    "region_masked=fits_import(maskimage)[1]\n",
    "region= masked_convert(data_masked,region_masked)\n",
    "rms=0.0031\n",
    "chan_width=10\n",
    "chans=50\n",
    "flux=flux_mask_get(region,rms,chans,chan_width)[0]\n",
    "uncertainty=flux_mask_get(region,rms,chans, chan_width)[1]\n",
    "ratio_table['12CO21 flux']['south']=flux\n",
    "ratio_table['12CO21 uncertainty']['south']=uncertainty\n",
    "\n",
    "# rest\n",
    "maskimage=maskDir+'rest_mask.fits'\n",
    "region_masked=fits_import(maskimage)[1]\n",
    "region= masked_convert(data_masked,region_masked)\n",
    "rms=0.0031\n",
    "chan_width=10\n",
    "chans=50\n",
    "flux=flux_mask_get(region,rms,chans,chan_width)[0]\n",
    "uncertainty=flux_mask_get(region,rms,chans, chan_width)[1]\n",
    "ratio_table['12CO21 flux']['rest']=flux\n",
    "ratio_table['12CO21 uncertainty']['rest']=uncertainty"
   ]
  },
  {
   "cell_type": "code",
   "execution_count": 46,
   "metadata": {},
   "outputs": [],
   "source": [
    "# center\n",
    "maskimage=maskDir+'center_SFR_mask.fits'\n",
    "region_masked=fits_import(maskimage)[1]\n",
    "region= masked_convert(data_masked,region_masked)\n",
    "intensity=np.ma.mean(region)\n",
    "intensities['12CO21 intensity']['center']=intensity\n",
    "intensities['12CO21 uncertainty']['center']=intensity*ratio_table['12CO21 uncertainty']['center']\\\n",
    "                                  /ratio_table['12CO21 flux']['center']\n",
    "\n",
    "# hinge\n",
    "maskimage=maskDir+'hinge_SFR_mask.fits'\n",
    "region_masked=fits_import(maskimage)[1]\n",
    "region= masked_convert(data_masked,region_masked)\n",
    "intensity=np.ma.mean(region)\n",
    "intensities['12CO21 intensity']['hinge']=intensity\n",
    "intensities['12CO21 uncertainty']['hinge']=intensity*ratio_table['12CO21 uncertainty']['center']\\\n",
    "                                  /ratio_table['12CO21 flux']['hinge']\n",
    "\n",
    "# south\n",
    "maskimage=maskDir+'south_SFR_mask.fits'\n",
    "region_masked=fits_import(maskimage)[1]\n",
    "region= masked_convert(data_masked,region_masked)\n",
    "intensity=np.ma.mean(region)\n",
    "intensities['12CO21 intensity']['south']=intensity\n",
    "intensities['12CO21 uncertainty']['south']=intensity*ratio_table['12CO21 uncertainty']['south']\\\n",
    "                                  /ratio_table['12CO21 flux']['south']\n",
    "\n",
    "# rest\n",
    "maskimage=maskDir+'rest_mask.fits'\n",
    "region_masked=fits_import(maskimage)[1]\n",
    "region= masked_convert(data_masked,region_masked)\n",
    "intensity=np.ma.mean(region)\n",
    "intensities['12CO21 intensity']['rest']=intensity\n",
    "intensities['12CO21 uncertainty']['rest']=intensity*ratio_table['12CO21 uncertainty']['rest']\\\n",
    "                                  /ratio_table['12CO21 flux']['rest']"
   ]
  },
  {
   "cell_type": "code",
   "execution_count": 47,
   "metadata": {},
   "outputs": [],
   "source": [
    "ratio_table['12/13']=ratio_table['12CO10 flux']/ratio_table['13CO10 flux']\n",
    "fraction=((ratio_table['12CO10 uncertainty']/ratio_table['12CO10 flux'])**2+\n",
    "                                  (ratio_table['13CO10 uncertainty']/ratio_table['13CO10 flux'])**2)**0.5\n",
    "ratio_table['12/13 uncertainty']=ratio_table['12/13']*fraction"
   ]
  },
  {
   "cell_type": "code",
   "execution_count": 48,
   "metadata": {},
   "outputs": [
    {
     "name": "stdout",
     "output_type": "stream",
     "text": [
      "       12CO10 flux 12CO10 uncertainty 13CO10 flux 13CO10 uncertainty  \\\n",
      "center     22.0644           0.232833     1.66748          0.0680382   \n",
      "hinge       16.859             0.3703    0.555318          0.0344174   \n",
      "south      1.67752            0.19182   0.0412512          0.0100093   \n",
      "rest       68.9403           0.935011     3.88955           0.280098   \n",
      "all            NaN                NaN         NaN                NaN   \n",
      "\n",
      "       12CO21 flux 12CO21 uncertainty    12/13 12/13 uncertainty     21/10  \\\n",
      "center     72.8302           0.451113  13.2322          0.557679  0.825199   \n",
      "hinge      55.9036           0.716814  30.3592           1.99626  0.828986   \n",
      "south      9.33013           0.408253  40.6659           10.9081   1.39046   \n",
      "rest       213.333            1.78186  17.7245           1.29883  0.773615   \n",
      "all            NaN                NaN      NaN               NaN       NaN   \n",
      "\n",
      "       21/10 uncertainty  \n",
      "center         0.0100971  \n",
      "hinge          0.0210838  \n",
      "south           0.170239  \n",
      "rest           0.0123223  \n",
      "all                  NaN  \n"
     ]
    }
   ],
   "source": [
    "ratio_table['21/10']=ratio_table['12CO21 flux']/ratio_table['12CO10 flux']*115.27**2/230.54**2\n",
    "fraction=((ratio_table['12CO21 uncertainty']/ratio_table['12CO21 flux'])**2+\n",
    "                                  (ratio_table['12CO10 uncertainty']/ratio_table['12CO10 flux'])**2)**0.5\n",
    "ratio_table['21/10 uncertainty']=ratio_table['21/10']*fraction\n",
    "print(ratio_table)"
   ]
  },
  {
   "cell_type": "code",
   "execution_count": 49,
   "metadata": {},
   "outputs": [
    {
     "name": "stdout",
     "output_type": "stream",
     "text": [
      "       12CO10 intensity 12CO10 uncertainty 13CO10 intensity  \\\n",
      "center          5.20973          0.0549751         0.443934   \n",
      "hinge           1.57375          0.0345666          0.20123   \n",
      "south          0.583567          0.0667293         0.179378   \n",
      "rest            1.00937          0.0136897         0.190574   \n",
      "all                 NaN                NaN              NaN   \n",
      "\n",
      "       13CO10 uncertainty 12CO21 intensity 12CO21 uncertainty  \n",
      "center          0.0181139          17.1962           0.106514  \n",
      "hinge            0.024655          5.22781          0.0421857  \n",
      "south           0.0435248          2.68982           0.117697  \n",
      "rest            0.0137238          3.22853          0.0269662  \n",
      "all                   NaN              NaN                NaN  \n"
     ]
    }
   ],
   "source": [
    "print(intensities)"
   ]
  }
 ],
 "metadata": {
  "kernelspec": {
   "display_name": "Python 3",
   "language": "python",
   "name": "python3"
  },
  "language_info": {
   "codemirror_mode": {
    "name": "ipython",
    "version": 3
   },
   "file_extension": ".py",
   "mimetype": "text/x-python",
   "name": "python",
   "nbconvert_exporter": "python",
   "pygments_lexer": "ipython3",
   "version": "3.6.8"
  }
 },
 "nbformat": 4,
 "nbformat_minor": 2
}
