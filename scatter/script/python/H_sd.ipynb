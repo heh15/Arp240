{
 "cells": [
  {
   "cell_type": "markdown",
   "metadata": {},
   "source": [
    "# Plot the scale height scatter plot "
   ]
  },
  {
   "cell_type": "code",
   "execution_count": 1,
   "metadata": {},
   "outputs": [
    {
     "name": "stderr",
     "output_type": "stream",
     "text": [
      "/home/heh15/packages/miniconda3/envs/Condapy3/lib/python3.6/site-packages/mpl_toolkits/axes_grid/__init__.py:12: MatplotlibDeprecationWarning: \n",
      "The mpl_toolkits.axes_grid module was deprecated in Matplotlib 2.1 and will be removed two minor releases later. Use mpl_toolkits.axes_grid1 and mpl_toolkits.axisartist, which provide the same functionality instead.\n",
      "  obj_type='module')\n"
     ]
    }
   ],
   "source": [
    "import numpy as np\n",
    "import os,glob\n",
    "import scipy.ndimage as sni\n",
    "import sys\n",
    "import re\n",
    "import itertools\n",
    "from shutil import copytree\n",
    "from astropy.wcs import WCS\n",
    "from astropy.io import fits\n",
    "from astropy.utils.data import get_pkg_data_filename\n",
    "import astropy.units as u\n",
    "import matplotlib.pyplot as plt\n",
    "import numpy as np\n",
    "from astropy.visualization import make_lupton_rgb\n",
    "import aplpy\n",
    "from astropy.nddata import Cutout2D\n",
    "from astropy import units as u\n",
    "from astropy.coordinates import SkyCoord\n",
    "from astropy.visualization.wcsaxes import SphericalCircle\n",
    "from photutils import SkyCircularAnnulus\n",
    "from photutils import SkyCircularAperture\n",
    "from photutils import CircularAperture\n",
    "from photutils import CircularAnnulus\n",
    "from photutils import SkyEllipticalAperture\n",
    "from photutils import SkyEllipticalAnnulus\n",
    "from photutils import EllipticalAperture\n",
    "from photutils import EllipticalAnnulus\n",
    "from photutils import aperture_photometry\n",
    "import numpy.ma as ma\n",
    "import math\n",
    "import shutil\n",
    "import pandas as pd\n",
    "import seaborn as sns"
   ]
  },
  {
   "cell_type": "markdown",
   "metadata": {},
   "source": [
    "## Function "
   ]
  },
  {
   "cell_type": "markdown",
   "metadata": {},
   "source": [
    "Read the aperture from the image"
   ]
  },
  {
   "cell_type": "code",
   "execution_count": 2,
   "metadata": {},
   "outputs": [],
   "source": [
    "def Apmask_convert(aperture,data_masked):\n",
    "    data_cut=data_masked.data\n",
    "    data_mask=data_masked.mask\n",
    "    apmask=aperture.to_mask(method='center')[0]\n",
    "    shape=data_cut.shape\n",
    "    mask=apmask.to_image(shape=((shape[0],shape[1])))\n",
    "    mask_tmp=mask==0\n",
    "    ap_mask=np.ma.mask_or(mask_tmp,data_mask)\n",
    " #   ap_masked=np.ma.masked_where(ap_mask,data_cut\n",
    "    return ap_mask"
   ]
  },
  {
   "cell_type": "markdown",
   "metadata": {},
   "source": [
    "Convert the casa mask to python mask"
   ]
  },
  {
   "cell_type": "code",
   "execution_count": 3,
   "metadata": {},
   "outputs": [],
   "source": [
    "def masked_convert(data_masked,region_masked):\n",
    "    data_mask=data_masked.mask\n",
    "    region_mask=np.ma.make_mask(region_masked==0)\n",
    "    region_mask=np.ma.mask_or(data_mask,region_mask)\n",
    "    data_region=np.ma.masked_where(region_mask,data_masked)\n",
    "    return data_region"
   ]
  },
  {
   "cell_type": "markdown",
   "metadata": {},
   "source": [
    "## Main program "
   ]
  },
  {
   "cell_type": "markdown",
   "metadata": {},
   "source": [
    "### Directory "
   ]
  },
  {
   "cell_type": "code",
   "execution_count": 4,
   "metadata": {},
   "outputs": [],
   "source": [
    "Dir='/1/home/heh15/workingspace/Arp240/scatter/'\n",
    "picDir=Dir+'picture/'\n",
    "imageDir=Dir+'image/'\n",
    "logDir=Dir+'log/'"
   ]
  },
  {
   "cell_type": "markdown",
   "metadata": {},
   "source": [
    "### Basic constant "
   ]
  },
  {
   "cell_type": "code",
   "execution_count": 5,
   "metadata": {},
   "outputs": [],
   "source": [
    "ratio=0.77\n",
    "XCO=0.5\n",
    "D=99\n",
    "z=0.024\n",
    "beammaj=1.004\n",
    "beammin=0.556\n",
    "freq=230.54\n",
    "alpha=4.3\n",
    "rms=0.0024\n",
    "rms_mom0=rms*10*math.sqrt(50) \n",
    "incl=0.45\n",
    "\n",
    "H_coeff=10**6/(2e30*3.14*6.67e-11/(3.1e16))\n",
    "Jy2K=(0.0109*beammaj*beammin*(freq/115.27)**2)"
   ]
  },
  {
   "cell_type": "markdown",
   "metadata": {},
   "source": [
    "### Load the data from image directory "
   ]
  },
  {
   "cell_type": "markdown",
   "metadata": {},
   "source": [
    "The directory of the image file"
   ]
  },
  {
   "cell_type": "code",
   "execution_count": 6,
   "metadata": {},
   "outputs": [],
   "source": [
    "mom0=imageDir+'NGC5257/NGC5257_12CO21_pbcor_rebin_mom0.fits'\n",
    "height=imageDir+'NGC5257/NGC5257_height_rebin.fits'\n",
    "mom2_1=imageDir+'NGC5257/NGC5257_12CO21_combine_5bin_mom2.fits'\n",
    "mom2_2=imageDir+'NGC5257/NGC5257_12CO21_combine_mom2_rebin.fits'"
   ]
  },
  {
   "cell_type": "markdown",
   "metadata": {},
   "source": [
    "#### Import the mom0 map "
   ]
  },
  {
   "cell_type": "code",
   "execution_count": 7,
   "metadata": {},
   "outputs": [],
   "source": [
    "hdr=fits.open(mom0)[0].header\n",
    "wcs=WCS(hdr).celestial\n",
    "data_mom0=fits.open(mom0)[0].data[0][0]"
   ]
  },
  {
   "cell_type": "markdown",
   "metadata": {},
   "source": [
    "Selection of the data"
   ]
  },
  {
   "cell_type": "code",
   "execution_count": 8,
   "metadata": {},
   "outputs": [
    {
     "name": "stdout",
     "output_type": "stream",
     "text": [
      "0.1697056274847714\n"
     ]
    },
    {
     "name": "stderr",
     "output_type": "stream",
     "text": [
      "/home/heh15/packages/miniconda3/envs/Condapy3/lib/python3.6/site-packages/ipykernel_launcher.py:1: RuntimeWarning: invalid value encountered in less\n",
      "  \"\"\"Entry point for launching an IPython kernel.\n"
     ]
    }
   ],
   "source": [
    "threshold=data_mom0<5.0*rms_mom0\n",
    "data_mom0[threshold]='nan'\n",
    "print(rms_mom0)\n",
    "data_mom0=data_mom0*incl"
   ]
  },
  {
   "cell_type": "markdown",
   "metadata": {},
   "source": [
    "Conversion of the data from jansky to the solar mass/pc^2"
   ]
  },
  {
   "cell_type": "code",
   "execution_count": 9,
   "metadata": {},
   "outputs": [],
   "source": [
    "data_K=data_mom0/(0.0109*beammaj*beammin*(freq/115.27)**2)\n",
    "sd=alpha/ratio*data_K"
   ]
  },
  {
   "cell_type": "markdown",
   "metadata": {},
   "source": [
    "#### Import the scale height map"
   ]
  },
  {
   "cell_type": "code",
   "execution_count": 10,
   "metadata": {},
   "outputs": [],
   "source": [
    "hdr=fits.open(height)[0].header\n",
    "wcs=WCS(hdr).celestial\n",
    "height=fits.open(height)[0].data[0][0]*incl"
   ]
  },
  {
   "cell_type": "markdown",
   "metadata": {},
   "source": [
    "Covert the scale height to the physical unit"
   ]
  },
  {
   "cell_type": "code",
   "execution_count": 11,
   "metadata": {},
   "outputs": [],
   "source": [
    "H=H_coeff*Jy2K*height"
   ]
  },
  {
   "cell_type": "markdown",
   "metadata": {},
   "source": [
    "#### Check the 50% coverage for scale height map. "
   ]
  },
  {
   "cell_type": "code",
   "execution_count": 12,
   "metadata": {},
   "outputs": [],
   "source": [
    "coverage=imageDir+'NGC5257/NGC5257_mask50percent.fits'\n",
    "hdr=fits.open(coverage)[0].header\n",
    "wcs=WCS(hdr).celestial\n",
    "mask=fits.open(coverage)[0].data[0][0]"
   ]
  },
  {
   "cell_type": "markdown",
   "metadata": {},
   "source": [
    "Covert the coverage map to the mask and add it to the height"
   ]
  },
  {
   "cell_type": "code",
   "execution_count": 13,
   "metadata": {},
   "outputs": [
    {
     "data": {
      "text/plain": [
       "467"
      ]
     },
     "execution_count": 13,
     "metadata": {},
     "output_type": "execute_result"
    }
   ],
   "source": [
    "low_cov=np.isnan(mask)\n",
    "H_masked=np.copy(H)\n",
    "H_masked[~low_cov]='nan'\n",
    "orig=np.isnan(H)\n",
    "sd_masked=np.copy(sd)\n",
    "sd_masked[low_cov]='nan'\n",
    "np.count_nonzero(~np.isnan(sd))"
   ]
  },
  {
   "cell_type": "markdown",
   "metadata": {},
   "source": [
    "scatter plot"
   ]
  },
  {
   "cell_type": "code",
   "execution_count": 14,
   "metadata": {},
   "outputs": [
    {
     "data": {
      "text/plain": [
       "(10, 10000)"
      ]
     },
     "execution_count": 14,
     "metadata": {},
     "output_type": "execute_result"
    },
    {
     "data": {
      "image/png": "[encoded data removed]",
      "text/plain": [
       "<Figure size 432x288 with 1 Axes>"
      ]
     },
     "metadata": {
      "needs_background": "light"
     },
     "output_type": "display_data"
    }
   ],
   "source": [
    "fig=plt.figure()\n",
    "ax=plt.axes(xscale='log',yscale='log')\n",
    "plt.scatter(sd,H,color='blue')\n",
    "plt.scatter(sd,H_masked,color='black')\n",
    "plt.title('Scale Height')\n",
    "plt.xlabel('surface density')\n",
    "plt.ylabel('height(pc)')\n",
    "plt.ylim(10,10000)"
   ]
  },
  {
   "cell_type": "markdown",
   "metadata": {},
   "source": [
    "### Compare the moment 2 map binned from cube and binned from moment 2 map "
   ]
  },
  {
   "cell_type": "markdown",
   "metadata": {},
   "source": [
    "#### Import the map binned from the cube "
   ]
  },
  {
   "cell_type": "code",
   "execution_count": 15,
   "metadata": {},
   "outputs": [],
   "source": [
    "hdr=fits.open(mom2_1)[0].header\n",
    "wcs=WCS(hdr).celestial\n",
    "mom2_1=fits.open(mom2_1)[0].data[0][0]"
   ]
  },
  {
   "cell_type": "markdown",
   "metadata": {},
   "source": [
    "#### Import the map binned from the moment 2 map "
   ]
  },
  {
   "cell_type": "code",
   "execution_count": 16,
   "metadata": {},
   "outputs": [],
   "source": [
    "hdr=fits.open(mom2_2)[0].header\n",
    "wcs=WCS(hdr).celestial\n",
    "mom2_2=fits.open(mom2_2)[0].data[0][0]"
   ]
  },
  {
   "cell_type": "markdown",
   "metadata": {},
   "source": [
    "#### plot the surface density vs dispersion "
   ]
  },
  {
   "cell_type": "code",
   "execution_count": 17,
   "metadata": {},
   "outputs": [
    {
     "data": {
      "text/plain": [
       "<matplotlib.collections.PathCollection at 0x7f9ee7e59828>"
      ]
     },
     "execution_count": 17,
     "metadata": {},
     "output_type": "execute_result"
    },
    {
     "data": {
      "image/png": "[encoded data removed]",
      "text/plain": [
       "<Figure size 432x288 with 1 Axes>"
      ]
     },
     "metadata": {
      "needs_background": "light"
     },
     "output_type": "display_data"
    }
   ],
   "source": [
    "fig=plt.figure()\n",
    "ax=plt.axes(xscale='log',yscale='log')\n",
    "plt.title('velocity disersion')\n",
    "plt.ylim(10,1000)\n",
    "plt.scatter(sd,mom2_1,color='black')\n",
    "plt.scatter(sd,mom2_2,color='blue')"
   ]
  },
  {
   "cell_type": "code",
   "execution_count": 18,
   "metadata": {},
   "outputs": [
    {
     "name": "stderr",
     "output_type": "stream",
     "text": [
      "/home/heh15/packages/miniconda3/envs/Condapy3/lib/python3.6/site-packages/ipykernel_launcher.py:2: RuntimeWarning: invalid value encountered in less\n",
      "  \n"
     ]
    }
   ],
   "source": [
    "vd=np.copy(mom2_1) \n",
    "low_value_flags=mom2_1<1.0\n",
    "vd[low_value_flags]='nan'\n",
    "height_orig=H_coeff*vd**2/sd"
   ]
  },
  {
   "cell_type": "code",
   "execution_count": 19,
   "metadata": {},
   "outputs": [
    {
     "data": {
      "text/plain": [
       "<matplotlib.collections.PathCollection at 0x7f9ee7c3c978>"
      ]
     },
     "execution_count": 19,
     "metadata": {},
     "output_type": "execute_result"
    },
    {
     "data": {
      "image/png": "[encoded data removed]",
      "text/plain": [
       "<Figure size 432x288 with 1 Axes>"
      ]
     },
     "metadata": {
      "needs_background": "light"
     },
     "output_type": "display_data"
    }
   ],
   "source": [
    "fig=plt.figure()\n",
    "ax=plt.axes(xscale='log',yscale='log')\n",
    "plt.ylim(10,10000)\n",
    "plt.scatter(sd,height_orig,color='black')\n",
    "plt.scatter(sd,H,color='blue')"
   ]
  },
  {
   "cell_type": "markdown",
   "metadata": {},
   "source": [
    "Record the scale height into the text file. "
   ]
  },
  {
   "cell_type": "code",
   "execution_count": 20,
   "metadata": {},
   "outputs": [],
   "source": [
    "data=np.transpose(np.vstack([sd.flatten(),H.flatten()]))\n",
    "filename=logDir+'Sd_H.txt'\n",
    "np.savetxt(filename,data)"
   ]
  },
  {
   "cell_type": "markdown",
   "metadata": {},
   "source": [
    "### Compare NGC 5257 and NGC 5258"
   ]
  },
  {
   "cell_type": "markdown",
   "metadata": {},
   "source": [
    "#### parameter "
   ]
  },
  {
   "cell_type": "code",
   "execution_count": 21,
   "metadata": {},
   "outputs": [],
   "source": [
    "incl=0.47\n",
    "position=SkyCoord(dec=0.8319*u.degree,ra=204.9908*u.degree,frame='icrs')"
   ]
  },
  {
   "cell_type": "code",
   "execution_count": 22,
   "metadata": {},
   "outputs": [
    {
     "name": "stderr",
     "output_type": "stream",
     "text": [
      "/home/heh15/packages/miniconda3/envs/Condapy3/lib/python3.6/site-packages/ipykernel_launcher.py:7: RuntimeWarning: invalid value encountered in less\n",
      "  import sys\n"
     ]
    }
   ],
   "source": [
    "mom0=imageDir+'NGC5258/NGC5258_12CO21_pbcor_rebin_mom0.fits'\n",
    "height=imageDir+'NGC5258/NGC5258_height_rebin.fits'\n",
    "\n",
    "hdr=fits.open(mom0)[0].header\n",
    "wcs=WCS(hdr).celestial\n",
    "data_mom0=fits.open(mom0)[0].data[0][0]\n",
    "threshold=data_mom0<5.0*rms_mom0\n",
    "data_mom0[threshold]='nan'\n",
    "data_mom0=data_mom0*incl\n",
    "\n",
    "data_K=data_mom0/(0.0109*beammaj*beammin*(freq/115.27)**2)\n",
    "\n",
    "sd2=alpha/ratio*data_K\n",
    "hdr=fits.open(height)[0].header\n",
    "wcs=WCS(hdr).celestial\n",
    "height=fits.open(height)[0].data[0][0]*incl\n",
    "H2=H_coeff*Jy2K*height"
   ]
  },
  {
   "cell_type": "markdown",
   "metadata": {},
   "source": [
    "#### Check the coverage of the NGC5258"
   ]
  },
  {
   "cell_type": "code",
   "execution_count": 23,
   "metadata": {},
   "outputs": [
    {
     "name": "stdout",
     "output_type": "stream",
     "text": [
      "1217\n"
     ]
    }
   ],
   "source": [
    "coverage=imageDir+'NGC5258/NGC5258_mask50percent.fits'\n",
    "hdr=fits.open(coverage)[0].header\n",
    "wcs=WCS(hdr).celestial\n",
    "mask=fits.open(coverage)[0].data[0][0]\n",
    "low_cov=np.isnan(mask)\n",
    "sd2_masked=np.copy(sd2)\n",
    "sd2_masked[low_cov]='nan'\n",
    "print(np.count_nonzero(~np.isnan(sd2)))"
   ]
  },
  {
   "cell_type": "code",
   "execution_count": 24,
   "metadata": {},
   "outputs": [
    {
     "data": {
      "text/plain": [
       "<matplotlib.collections.PathCollection at 0x7f9ee7e3f860>"
      ]
     },
     "execution_count": 24,
     "metadata": {},
     "output_type": "execute_result"
    },
    {
     "data": {
      "image/png": "[encoded data removed]",
      "text/plain": [
       "<Figure size 432x288 with 1 Axes>"
      ]
     },
     "metadata": {
      "needs_background": "light"
     },
     "output_type": "display_data"
    }
   ],
   "source": [
    "fig=plt.figure()\n",
    "ax=plt.axes(xscale='log',yscale='log')\n",
    "plt.ylim(10,10000)\n",
    "plt.scatter(sd2,H2,color='black',marker='.')\n",
    "plt.scatter(sd_masked,H,color='blue',marker='.')"
   ]
  },
  {
   "cell_type": "markdown",
   "metadata": {},
   "source": [
    "#### Number of pixels"
   ]
  },
  {
   "cell_type": "code",
   "execution_count": 25,
   "metadata": {},
   "outputs": [
    {
     "name": "stdout",
     "output_type": "stream",
     "text": [
      "1239\n",
      "1499\n"
     ]
    }
   ],
   "source": [
    "print(np.count_nonzero(~np.isnan(H)))\n",
    "print(np.count_nonzero(~np.isnan(H2)))"
   ]
  },
  {
   "cell_type": "code",
   "execution_count": 26,
   "metadata": {},
   "outputs": [],
   "source": [
    "def fits_import(fitsimage):\n",
    "    hdr = fits.open(fitsimage)[0].header\n",
    "    wcs = WCS(hdr).celestial\n",
    "    data=fits.open(fitsimage)[0].data\n",
    "    data=np.squeeze(data)\n",
    "    size=u.Quantity((54,42),u.arcsec)\n",
    "    cut=Cutout2D(data=data,position=position,size=size,wcs=wcs)\n",
    "    data_cut=cut.data\n",
    "    wcs_cut=cut.wcs\n",
    "    data_masked=np.ma.masked_invalid(data_cut)\n",
    "    return wcs_cut, data_masked"
   ]
  },
  {
   "cell_type": "code",
   "execution_count": 27,
   "metadata": {},
   "outputs": [],
   "source": [
    "fitsimage=imageDir+'NGC5258/NGC5258_height_rebin.fits'\n",
    "wcs_cut=fits_import(fitsimage)[0]\n",
    "height=fits_import(fitsimage)[1]"
   ]
  },
  {
   "cell_type": "code",
   "execution_count": 28,
   "metadata": {},
   "outputs": [
    {
     "data": {
      "text/plain": [
       "<matplotlib.image.AxesImage at 0x7f9ee7e2ef28>"
      ]
     },
     "execution_count": 28,
     "metadata": {},
     "output_type": "execute_result"
    },
    {
     "data": {
      "image/png": "[encoded data removed]",
      "text/plain": [
       "<Figure size 432x288 with 1 Axes>"
      ]
     },
     "metadata": {
      "needs_background": "light"
     },
     "output_type": "display_data"
    }
   ],
   "source": [
    "fig=plt.figure()\n",
    "ax=plt.subplot('111',projection=wcs_cut)\n",
    "ax.imshow(H_coeff*Jy2K*height,origin='lower',vmax=1000)"
   ]
  },
  {
   "cell_type": "code",
   "execution_count": 45,
   "metadata": {},
   "outputs": [],
   "source": [
    "index1=np.where(np.isnan(sd))\n",
    "H[index1]='nan'\n",
    "\n",
    "index2=np.where(np.isnan(H))\n",
    "sd[index2]='nan'"
   ]
  },
  {
   "cell_type": "code",
   "execution_count": 51,
   "metadata": {},
   "outputs": [],
   "source": [
    "outputfits=imageDir+'NGC5257/sd_casa.fits'\n",
    "hdul=fits.open(mom0)\n",
    "hdul[0].data=sd\n",
    "hdul.writeto(outputfits)\n",
    "hdul.close()"
   ]
  },
  {
   "cell_type": "code",
   "execution_count": 52,
   "metadata": {},
   "outputs": [],
   "source": [
    "outputfits=imageDir+'NGC5257/height_casa.fits'\n",
    "hdul=fits.open(mom0)\n",
    "hdul[0].data=H\n",
    "hdul.writeto(outputfits)\n",
    "hdul.close()"
   ]
  },
  {
   "cell_type": "code",
   "execution_count": 50,
   "metadata": {},
   "outputs": [
    {
     "data": {
      "text/plain": [
       "403"
      ]
     },
     "execution_count": 50,
     "metadata": {},
     "output_type": "execute_result"
    }
   ],
   "source": [
    "np.count_nonzero(~np.isnan(H))"
   ]
  }
 ],
 "metadata": {
  "kernelspec": {
   "display_name": "Python 3",
   "language": "python",
   "name": "python3"
  },
  "language_info": {
   "codemirror_mode": {
    "name": "ipython",
    "version": 3
   },
   "file_extension": ".py",
   "mimetype": "text/x-python",
   "name": "python",
   "nbconvert_exporter": "python",
   "pygments_lexer": "ipython3",
   "version": "3.6.8"
  }
 },
 "nbformat": 4,
 "nbformat_minor": 2
}
