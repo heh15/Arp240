{
 "cells": [
  {
   "cell_type": "markdown",
   "metadata": {},
   "source": [
    "# To calculate the scale height with CASA"
   ]
  },
  {
   "cell_type": "markdown",
   "metadata": {},
   "source": [
    "## Directory"
   ]
  },
  {
   "cell_type": "code",
   "execution_count": 12,
   "metadata": {},
   "outputs": [],
   "source": [
    "Dir='/1/home/heh15/workingspace/Arp240/scatter/'\n",
    "picDir=Dir+'picture/'\n",
    "imageDir=Dir+'image/'\n",
    "logDir=Dir+'log/'\n",
    "scriptDir=Dir+'script/'"
   ]
  },
  {
   "cell_type": "markdown",
   "metadata": {},
   "source": [
    "## NGC 5257"
   ]
  },
  {
   "cell_type": "markdown",
   "metadata": {},
   "source": [
    "### primary beam correction for moment 0 map "
   ]
  },
  {
   "cell_type": "code",
   "execution_count": 14,
   "metadata": {},
   "outputs": [],
   "source": [
    "imcollapse(imagename=imageDir+'NGC5257_12CO21_combine_noise40.pb/',\n",
    "           function=\"mean\",\n",
    "           axes=3,\n",
    "           outfile=imageDir+'NGC5257_12CO21_combine_mom0.pb')\n",
    "impbcor(imagename=imageDir+'NGC5257_12CO21_combine_noise40.image.mom0/',\n",
    "        pbimage=imageDir+'NGC5257_12CO21_combine_mom0.pb/',\n",
    "        outfile=imageDir+'NGC5257_12CO21_combine_noise40.pbcor.mom0/')"
   ]
  },
  {
   "cell_type": "markdown",
   "metadata": {},
   "source": [
    "Rebin the moment 0 map and export the fits image. "
   ]
  },
  {
   "cell_type": "code",
   "execution_count": null,
   "metadata": {},
   "outputs": [],
   "source": [
    "imrebin(imagename=imageDir+'NGC5257_12CO21_combine_noise40.pbcor.mom0/',\n",
    "        factor=[5,5],\n",
    "        outfile=imageDir+'NGC5257_12CO21_pbcor_rebin.mom0')\n",
    "exportfits(imagename=imageDir+'NGC5257_12CO21_pbcor_rebin.mom0/',fitsimage='NGC5257_12CO21_pbcor_rebin_mom0.fits')"
   ]
  },
  {
   "cell_type": "markdown",
   "metadata": {},
   "source": [
    "### calculate the scale height"
   ]
  },
  {
   "cell_type": "code",
   "execution_count": null,
   "metadata": {},
   "outputs": [],
   "source": [
    "im1='NGC5257_12CO21_combine_noise40.pbcor.mom0/'\n",
    "im2='NGC5257_12CO21_combine_noise40.image.mom2/'\n",
    "immath(imagename=[imageDir+im1,imageDir+im2],\n",
    "      expr='IM1*IM1/IM0',\n",
    "      outfile=imageDir+'NGC5257_height.image')"
   ]
  },
  {
   "cell_type": "markdown",
   "metadata": {},
   "source": [
    "rebin the calculated image"
   ]
  },
  {
   "cell_type": "code",
   "execution_count": null,
   "metadata": {},
   "outputs": [],
   "source": [
    "imrebin(imagename=imageDir+'NGC5257_height.image/',factor=[5,5],outfile=imageDir+'NGC5257_height_rebin.image')\n",
    "exportfits(imagename=imageDir+'NGC5257_height_rebin.image',fitsimage=imageDir+'NGC5257_height_rebin.fits')"
   ]
  }
 ],
 "metadata": {
  "kernelspec": {
   "display_name": "Python 3",
   "language": "python",
   "name": "python3"
  },
  "language_info": {
   "codemirror_mode": {
    "name": "ipython",
    "version": 3
   },
   "file_extension": ".py",
   "mimetype": "text/x-python",
   "name": "python",
   "nbconvert_exporter": "python",
   "pygments_lexer": "ipython3",
   "version": "3.6.8"
  }
 },
 "nbformat": 4,
 "nbformat_minor": 2
}
